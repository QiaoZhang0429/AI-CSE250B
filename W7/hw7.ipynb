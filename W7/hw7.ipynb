{
 "cells": [
  {
   "cell_type": "code",
   "execution_count": 19,
   "metadata": {
    "collapsed": true
   },
   "outputs": [],
   "source": [
    "import numpy as np\n",
    "import math\n",
    "from sklearn.manifold import MDS\n",
    "import matplotlib.pyplot as plt\n",
    "% matplotlib inline"
   ]
  },
  {
   "cell_type": "code",
   "execution_count": 11,
   "metadata": {
    "collapsed": false
   },
   "outputs": [],
   "source": [
    "# load data\n",
    "f = open('distances.txt')\n",
    "X = []\n",
    "for line in f.readlines():\n",
    "    tmp = []\n",
    "    for x in line.strip().split(','):\n",
    "        tmp.append(int(x))\n",
    "    X.append(tmp)\n",
    "fn = open('cities.txt')\n",
    "names = [x.strip() for x in fn.readlines()]"
   ]
  },
  {
   "cell_type": "code",
   "execution_count": 12,
   "metadata": {
    "collapsed": false,
    "scrolled": true
   },
   "outputs": [
    {
     "name": "stdout",
     "output_type": "stream",
     "text": [
      "[[0, 936, 587, 1210, 701, 606, 746, 1887, 2135, 2178], [936, 0, 850, 1765, 1603, 1258, 190, 2578, 2693, 2485], [587, 850, 0, 917, 939, 1189, 712, 1730, 1854, 1733], [1210, 1765, 917, 0, 878, 1724, 1627, 833, 948, 1020], [701, 1603, 939, 878, 0, 967, 1417, 1301, 1642, 1889], [606, 1258, 1189, 1724, 967, 0, 1092, 2267, 2590, 2731], [746, 190, 712, 1627, 1417, 1092, 0, 2427, 2566, 2402], [1887, 2578, 1730, 833, 1301, 2267, 2427, 0, 458, 1064], [2135, 2693, 1854, 948, 1642, 2590, 2566, 458, 0, 679], [2178, 2485, 1733, 1020, 1889, 2731, 2402, 1064, 679, 0]]\n"
     ]
    }
   ],
   "source": [
    "print X"
   ]
  },
  {
   "cell_type": "code",
   "execution_count": 9,
   "metadata": {
    "collapsed": false,
    "scrolled": true
   },
   "outputs": [
    {
     "name": "stdout",
     "output_type": "stream",
     "text": [
      "['Atlanta', 'Boston', 'Mystery', 'Denver', 'Houston', 'Miami', 'New York', 'San Diego', 'San Francisco', 'Seattle']\n"
     ]
    }
   ],
   "source": [
    "print names"
   ]
  },
  {
   "cell_type": "code",
   "execution_count": 24,
   "metadata": {
    "collapsed": false
   },
   "outputs": [],
   "source": [
    "mds = MDS(n_components=2, dissimilarity='precomputed')\n",
    "X_new = mds.fit_transform(np.array(X))"
   ]
  },
  {
   "cell_type": "code",
   "execution_count": 25,
   "metadata": {
    "collapsed": false,
    "scrolled": true
   },
   "outputs": [
    {
     "name": "stdout",
     "output_type": "stream",
     "text": [
      "[[ -640.75278712   311.91532414]\n",
      " [-1245.73659696  -401.36901219]\n",
      " [ -415.37791947  -231.37641749]\n",
      " [  493.31883296  -104.58443009]\n",
      " [   -6.20052989   614.6954243 ]\n",
      " [ -953.0829333    826.89314325]\n",
      " [-1126.46905982  -253.81292719]\n",
      " [ 1246.21259438   242.05626375]\n",
      " [ 1436.06637032  -179.09431566]\n",
      " [ 1212.02202891  -825.32305283]]\n"
     ]
    }
   ],
   "source": [
    "print X_new"
   ]
  },
  {
   "cell_type": "code",
   "execution_count": 26,
   "metadata": {
    "collapsed": false
   },
   "outputs": [
    {
     "data": {
      "image/png": "[encoded data removed]",
      "text/plain": [
       "<matplotlib.figure.Figure at 0x1073d5b90>"
      ]
     },
     "metadata": {},
     "output_type": "display_data"
    }
   ],
   "source": [
    "plt.figure(figsize=(7,7))\n",
    "plt.scatter([x[0] for x in X_new], [x[1] for x in X_new])\n",
    "for i in range(len(X)):\n",
    "    plt.text(X_new[i][0], X_new[i][1], names[i])"
   ]
  },
  {
   "cell_type": "code",
   "execution_count": null,
   "metadata": {
    "collapsed": true
   },
   "outputs": [],
   "source": []
  }
 ],
 "metadata": {
  "kernelspec": {
   "display_name": "Python 2",
   "language": "python",
   "name": "python2"
  },
  "language_info": {
   "codemirror_mode": {
    "name": "ipython",
    "version": 2
   },
   "file_extension": ".py",
   "mimetype": "text/x-python",
   "name": "python",
   "nbconvert_exporter": "python",
   "pygments_lexer": "ipython2",
   "version": "2.7.9"
  }
 },
 "nbformat": 4,
 "nbformat_minor": 0
}
